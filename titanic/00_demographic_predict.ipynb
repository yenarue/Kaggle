{
 "cells": [
  {
   "cell_type": "code",
   "execution_count": 1,
   "metadata": {},
   "outputs": [],
   "source": [
    "import pandas as pd\n",
    "pd.options.mode.chained_assignment = None \n",
    "\n",
    "## 파일 읽기\n",
    "test = pd.read_csv('./test.csv')\n",
    "train = pd.read_csv('./train.csv')"
   ]
  },
  {
   "cell_type": "markdown",
   "metadata": {},
   "source": [
    "## 트레이닝 데이터 확인하기\n",
    "### 성별 확인"
   ]
  },
  {
   "cell_type": "code",
   "execution_count": 2,
   "metadata": {},
   "outputs": [
    {
     "name": "stdout",
     "output_type": "stream",
     "text": [
      "여자\n",
      "1    0.742038\n",
      "0    0.257962\n",
      "Name: Survived, dtype: float64\n",
      "남자\n",
      "0    0.811092\n",
      "1    0.188908\n",
      "Name: Survived, dtype: float64\n"
     ]
    }
   ],
   "source": [
    "print('여자')\n",
    "print(train[\"Survived\"][train[\"Sex\"] == 'female'].value_counts(normalize = True))\n",
    "print('남자')\n",
    "print(train[\"Survived\"][train[\"Sex\"] == 'male'].value_counts(normalize = True))"
   ]
  },
  {
   "cell_type": "markdown",
   "metadata": {},
   "source": [
    "### 나이 확인"
   ]
  },
  {
   "cell_type": "code",
   "execution_count": 3,
   "metadata": {},
   "outputs": [
    {
     "name": "stdout",
     "output_type": "stream",
     "text": [
      "아이들\n",
      "1    0.539823\n",
      "0    0.460177\n",
      "Name: Survived, dtype: float64\n",
      "성인\n",
      "0    0.638817\n",
      "1    0.361183\n",
      "Name: Survived, dtype: float64\n"
     ]
    }
   ],
   "source": [
    "train[\"Child\"] = 0;\n",
    "train[\"Child\"][train[\"Age\"] < 18] = 1\n",
    "\n",
    "print('아이들')\n",
    "print(train[\"Survived\"][train[\"Child\"] == 1].value_counts(normalize = True))\n",
    "print('성인')\n",
    "print(train[\"Survived\"][train[\"Child\"] == 0].value_counts(normalize = True))"
   ]
  },
  {
   "cell_type": "markdown",
   "metadata": {},
   "source": [
    "## 예측\n",
    "### 여자는 무조건 산다\n",
    "In[2] 에서 여자의 생존확률이 더 높았기 때문"
   ]
  },
  {
   "cell_type": "code",
   "execution_count": 4,
   "metadata": {},
   "outputs": [],
   "source": [
    "gender_test = test.copy()\n",
    "gender_test[\"Survived\"] = 0\n",
    "gender_test[\"Survived\"][gender_test[\"Sex\"] == 'female'] = 1\n",
    "\n",
    "pd.DataFrame(gender_test).to_csv('gender_predict.csv', columns=['PassengerId', 'Survived'], index=False)"
   ]
  },
  {
   "cell_type": "markdown",
   "metadata": {},
   "source": [
    "### 아이들은 무조건 산다\n",
    "In[3] 에서 아이들의 생존 확률이 더 높았기 때문"
   ]
  },
  {
   "cell_type": "code",
   "execution_count": 5,
   "metadata": {},
   "outputs": [],
   "source": [
    "age_test = test.copy()\n",
    "age_test[\"Child\"] = 0\n",
    "age_test[\"Child\"][age_test[\"Age\"] < 18] = 1\n",
    "\n",
    "age_test[\"Survived\"] = 0\n",
    "age_test[\"Survived\"][age_test[\"Child\"] == 1] = 1\n",
    "\n",
    "pd.DataFrame(gender_test).to_csv('age_predict.csv', columns=['PassengerId', 'Survived'], index=False)"
   ]
  },
  {
   "cell_type": "code",
   "execution_count": null,
   "metadata": {},
   "outputs": [],
   "source": []
  }
 ],
 "metadata": {
  "kernelspec": {
   "display_name": "Python 3",
   "language": "python",
   "name": "python3"
  },
  "language_info": {
   "codemirror_mode": {
    "name": "ipython",
    "version": 3
   },
   "file_extension": ".py",
   "mimetype": "text/x-python",
   "name": "python",
   "nbconvert_exporter": "python",
   "pygments_lexer": "ipython3",
   "version": "3.7.0"
  }
 },
 "nbformat": 4,
 "nbformat_minor": 2
}
