{
 "cells": [
  {
   "cell_type": "markdown",
   "metadata": {},
   "source": [
    "# Titanic 풀어보기\n",
    "Kaggle계의 Hello Wor"
   ]
  },
  {
   "cell_type": "code",
   "execution_count": null,
   "metadata": {},
   "outputs": [],
   "source": [
    "import pandas as pd\n",
    "pd.options.mode.chained_assignment = None \n",
    "\n",
    "## 파일 읽기\n",
    "test = pd.read_csv('./test.csv')\n",
    "train = pd.read_csv('./train.csv')"
   ]
  },
  {
   "cell_type": "markdown",
   "metadata": {},
   "source": [
    "## 트레이닝 데이터 확인하기\n",
    "### 성별 확인"
   ]
  },
  {
   "cell_type": "code",
   "execution_count": 2,
   "metadata": {},
   "outputs": [
    {
     "name": "stdout",
     "output_type": "stream",
     "text": [
      "여자\n",
      "1    0.742038\n",
      "0    0.257962\n",
      "Name: Survived, dtype: float64\n",
      "남자\n",
      "0    0.811092\n",
      "1    0.188908\n",
      "Name: Survived, dtype: float64\n"
     ]
    }
   ],
   "source": [
    "print('여자')\n",
    "print(train[\"Survived\"][train[\"Sex\"] == 'female'].value_counts(normalize = True))\n",
    "print('남자')\n",
    "print(train[\"Survived\"][train[\"Sex\"] == 'male'].value_counts(normalize = True))"
   ]
  },
  {
   "cell_type": "markdown",
   "metadata": {},
   "source": [
    "### 나이 확인"
   ]
  },
  {
   "cell_type": "code",
   "execution_count": 3,
   "metadata": {},
   "outputs": [
    {
     "name": "stdout",
     "output_type": "stream",
     "text": [
      "아이들\n",
      "1    0.539823\n",
      "0    0.460177\n",
      "Name: Survived, dtype: float64\n",
      "성인\n",
      "0    0.638817\n",
      "1    0.361183\n",
      "Name: Survived, dtype: float64\n"
     ]
    }
   ],
   "source": [
    "train[\"Child\"] = 0;\n",
    "train[\"Child\"][train[\"Age\"] < 18] = 1\n",
    "\n",
    "print('아이들')\n",
    "print(train[\"Survived\"][train[\"Child\"] == 1].value_counts(normalize = True))\n",
    "print('성인')\n",
    "print(train[\"Survived\"][train[\"Child\"] == 0].value_counts(normalize = True))"
   ]
  },
  {
   "cell_type": "markdown",
   "metadata": {},
   "source": [
    "## 예측\n",
    "### 여자는 무조건 산다\n",
    "In[2] 에서 여자의 생존확률이 더 높았기 때문"
   ]
  },
  {
   "cell_type": "code",
   "execution_count": 4,
   "metadata": {},
   "outputs": [],
   "source": [
    "gender_test = test.copy()\n",
    "gender_test[\"Survived\"] = 0\n",
    "gender_test[\"Survived\"][gender_test[\"Sex\"] == 'female'] = 1\n",
    "\n",
    "pd.DataFrame(gender_test).to_csv('gender_predict.csv', columns=['PassengerId', 'Survived'], index=False)"
   ]
  },
  {
   "cell_type": "markdown",
   "metadata": {},
   "source": [
    "### 아이들은 무조건 산다\n",
    "In[3] 에서 아이들의 생존 확률이 더 높았기 때문"
   ]
  },
  {
   "cell_type": "code",
   "execution_count": 5,
   "metadata": {},
   "outputs": [],
   "source": [
    "age_test = test.copy()\n",
    "age_test[\"Child\"] = 0\n",
    "age_test[\"Child\"][age_test[\"Age\"] < 18] = 1\n",
    "\n",
    "age_test[\"Survived\"] = 0\n",
    "age_test[\"Survived\"][age_test[\"Child\"] == 1] = 1\n",
    "\n",
    "pd.DataFrame(gender_test).to_csv('age_predict.csv', columns=['PassengerId', 'Survived'], index=False)"
   ]
  },
  {
   "cell_type": "markdown",
   "metadata": {},
   "source": [
    "## 예측의 질 높히기\n",
    "결정트리 (decision tree)를 이용하여 질을 높혀보자"
   ]
  },
  {
   "cell_type": "code",
   "execution_count": 6,
   "metadata": {},
   "outputs": [],
   "source": [
    "### 라이브러리"
   ]
  },
  {
   "cell_type": "code",
   "execution_count": 7,
   "metadata": {
    "scrolled": true
   },
   "outputs": [],
   "source": [
    "# Import the Numpy library\n",
    "import numpy as np\n",
    "\n",
    "# Import 'tree' from scikit-learn library\n",
    "from sklearn import tree"
   ]
  },
  {
   "cell_type": "markdown",
   "metadata": {},
   "source": [
    "### 피쳐 정리하기\n",
    "- 결정트리가 결정하기 쉽도록 String을 integer로 변경하자\n",
    "- 비어있는 값에 대해서도 처리하는 로직을 추가하자"
   ]
  },
  {
   "cell_type": "code",
   "execution_count": 8,
   "metadata": {},
   "outputs": [
    {
     "name": "stdout",
     "output_type": "stream",
     "text": [
      "0      0\n",
      "1      1\n",
      "2      1\n",
      "3      1\n",
      "4      0\n",
      "5      0\n",
      "6      0\n",
      "7      0\n",
      "8      1\n",
      "9      1\n",
      "10     1\n",
      "11     1\n",
      "12     0\n",
      "13     0\n",
      "14     1\n",
      "15     1\n",
      "16     0\n",
      "17     0\n",
      "18     1\n",
      "19     1\n",
      "20     0\n",
      "21     0\n",
      "22     1\n",
      "23     0\n",
      "24     1\n",
      "25     1\n",
      "26     0\n",
      "27     0\n",
      "28     1\n",
      "29     0\n",
      "      ..\n",
      "861    0\n",
      "862    1\n",
      "863    1\n",
      "864    0\n",
      "865    1\n",
      "866    1\n",
      "867    0\n",
      "868    0\n",
      "869    0\n",
      "870    0\n",
      "871    1\n",
      "872    0\n",
      "873    0\n",
      "874    1\n",
      "875    1\n",
      "876    0\n",
      "877    0\n",
      "878    0\n",
      "879    1\n",
      "880    1\n",
      "881    0\n",
      "882    1\n",
      "883    0\n",
      "884    0\n",
      "885    1\n",
      "886    0\n",
      "887    1\n",
      "888    1\n",
      "889    0\n",
      "890    0\n",
      "Name: Sex, Length: 891, dtype: object\n",
      "0      0\n",
      "1      1\n",
      "2      0\n",
      "3      0\n",
      "4      0\n",
      "5      2\n",
      "6      0\n",
      "7      0\n",
      "8      0\n",
      "9      1\n",
      "10     0\n",
      "11     0\n",
      "12     0\n",
      "13     0\n",
      "14     0\n",
      "15     0\n",
      "16     2\n",
      "17     0\n",
      "18     0\n",
      "19     1\n",
      "20     0\n",
      "21     0\n",
      "22     2\n",
      "23     0\n",
      "24     0\n",
      "25     0\n",
      "26     1\n",
      "27     0\n",
      "28     2\n",
      "29     0\n",
      "      ..\n",
      "861    0\n",
      "862    0\n",
      "863    0\n",
      "864    0\n",
      "865    0\n",
      "866    1\n",
      "867    0\n",
      "868    0\n",
      "869    0\n",
      "870    0\n",
      "871    0\n",
      "872    0\n",
      "873    0\n",
      "874    1\n",
      "875    1\n",
      "876    0\n",
      "877    0\n",
      "878    0\n",
      "879    1\n",
      "880    0\n",
      "881    0\n",
      "882    0\n",
      "883    0\n",
      "884    0\n",
      "885    2\n",
      "886    0\n",
      "887    0\n",
      "888    0\n",
      "889    1\n",
      "890    2\n",
      "Name: Embarked, Length: 891, dtype: object\n"
     ]
    }
   ],
   "source": [
    "# Convert the male and female groups to integer form\n",
    "train[\"Sex\"][train[\"Sex\"] == \"male\"] = 0\n",
    "train[\"Sex\"][train[\"Sex\"] == \"female\"] = 1\n",
    "\n",
    "# Impute the Embarked variable\n",
    "train[\"Embarked\"] = train[\"Embarked\"].fillna('S')\n",
    "\n",
    "# Convert the Embarked classes to integer form\n",
    "train[\"Embarked\"][train[\"Embarked\"] == \"S\"] = 0\n",
    "train[\"Embarked\"][train[\"Embarked\"] == \"C\"] = 1\n",
    "train[\"Embarked\"][train[\"Embarked\"] == \"Q\"] = 2\n",
    "\n",
    "# NaN값이 많은 Age필드는 중간값으로 대충 넣어둔다\n",
    "train[\"Age\"] = train[\"Age\"].fillna(train[\"Age\"].median())\n",
    "\n",
    "#Print the Sex and Embarked columns\n",
    "print(train[\"Sex\"])\n",
    "print(train[\"Embarked\"])"
   ]
  },
  {
   "cell_type": "markdown",
   "metadata": {},
   "source": [
    "### 결정트리 만들기\n",
    "1. 학습에 쓸 피쳐들을 선정한다\n",
    "2. `DecisionTreeClassifier()` 메소드로 트리를 만든다\n",
    "3. `fit()` 메소드로 학습시킨다\n",
    "4. `feature_importances_`는 각 피쳐들의 중요도를 리턴한다\n",
    "5. `score`는 학습이 최종적으로 얼마나 잘 되었는지 점수로 나타낸다"
   ]
  },
  {
   "cell_type": "code",
   "execution_count": 9,
   "metadata": {},
   "outputs": [
    {
     "name": "stdout",
     "output_type": "stream",
     "text": [
      "     PassengerId  Survived  Pclass  \\\n",
      "0              1         0       3   \n",
      "1              2         1       1   \n",
      "2              3         1       3   \n",
      "3              4         1       1   \n",
      "4              5         0       3   \n",
      "5              6         0       3   \n",
      "6              7         0       1   \n",
      "7              8         0       3   \n",
      "8              9         1       3   \n",
      "9             10         1       2   \n",
      "10            11         1       3   \n",
      "11            12         1       1   \n",
      "12            13         0       3   \n",
      "13            14         0       3   \n",
      "14            15         0       3   \n",
      "15            16         1       2   \n",
      "16            17         0       3   \n",
      "17            18         1       2   \n",
      "18            19         0       3   \n",
      "19            20         1       3   \n",
      "20            21         0       2   \n",
      "21            22         1       2   \n",
      "22            23         1       3   \n",
      "23            24         1       1   \n",
      "24            25         0       3   \n",
      "25            26         1       3   \n",
      "26            27         0       3   \n",
      "27            28         0       1   \n",
      "28            29         1       3   \n",
      "29            30         0       3   \n",
      "..           ...       ...     ...   \n",
      "861          862         0       2   \n",
      "862          863         1       1   \n",
      "863          864         0       3   \n",
      "864          865         0       2   \n",
      "865          866         1       2   \n",
      "866          867         1       2   \n",
      "867          868         0       1   \n",
      "868          869         0       3   \n",
      "869          870         1       3   \n",
      "870          871         0       3   \n",
      "871          872         1       1   \n",
      "872          873         0       1   \n",
      "873          874         0       3   \n",
      "874          875         1       2   \n",
      "875          876         1       3   \n",
      "876          877         0       3   \n",
      "877          878         0       3   \n",
      "878          879         0       3   \n",
      "879          880         1       1   \n",
      "880          881         1       2   \n",
      "881          882         0       3   \n",
      "882          883         0       3   \n",
      "883          884         0       2   \n",
      "884          885         0       3   \n",
      "885          886         0       3   \n",
      "886          887         0       2   \n",
      "887          888         1       1   \n",
      "888          889         0       3   \n",
      "889          890         1       1   \n",
      "890          891         0       3   \n",
      "\n",
      "                                                  Name Sex   Age  SibSp  \\\n",
      "0                              Braund, Mr. Owen Harris   0  22.0      1   \n",
      "1    Cumings, Mrs. John Bradley (Florence Briggs Th...   1  38.0      1   \n",
      "2                               Heikkinen, Miss. Laina   1  26.0      0   \n",
      "3         Futrelle, Mrs. Jacques Heath (Lily May Peel)   1  35.0      1   \n",
      "4                             Allen, Mr. William Henry   0  35.0      0   \n",
      "5                                     Moran, Mr. James   0  28.0      0   \n",
      "6                              McCarthy, Mr. Timothy J   0  54.0      0   \n",
      "7                       Palsson, Master. Gosta Leonard   0   2.0      3   \n",
      "8    Johnson, Mrs. Oscar W (Elisabeth Vilhelmina Berg)   1  27.0      0   \n",
      "9                  Nasser, Mrs. Nicholas (Adele Achem)   1  14.0      1   \n",
      "10                     Sandstrom, Miss. Marguerite Rut   1   4.0      1   \n",
      "11                            Bonnell, Miss. Elizabeth   1  58.0      0   \n",
      "12                      Saundercock, Mr. William Henry   0  20.0      0   \n",
      "13                         Andersson, Mr. Anders Johan   0  39.0      1   \n",
      "14                Vestrom, Miss. Hulda Amanda Adolfina   1  14.0      0   \n",
      "15                    Hewlett, Mrs. (Mary D Kingcome)    1  55.0      0   \n",
      "16                                Rice, Master. Eugene   0   2.0      4   \n",
      "17                        Williams, Mr. Charles Eugene   0  28.0      0   \n",
      "18   Vander Planke, Mrs. Julius (Emelia Maria Vande...   1  31.0      1   \n",
      "19                             Masselmani, Mrs. Fatima   1  28.0      0   \n",
      "20                                Fynney, Mr. Joseph J   0  35.0      0   \n",
      "21                               Beesley, Mr. Lawrence   0  34.0      0   \n",
      "22                         McGowan, Miss. Anna \"Annie\"   1  15.0      0   \n",
      "23                        Sloper, Mr. William Thompson   0  28.0      0   \n",
      "24                       Palsson, Miss. Torborg Danira   1   8.0      3   \n",
      "25   Asplund, Mrs. Carl Oscar (Selma Augusta Emilia...   1  38.0      1   \n",
      "26                             Emir, Mr. Farred Chehab   0  28.0      0   \n",
      "27                      Fortune, Mr. Charles Alexander   0  19.0      3   \n",
      "28                       O'Dwyer, Miss. Ellen \"Nellie\"   1  28.0      0   \n",
      "29                                 Todoroff, Mr. Lalio   0  28.0      0   \n",
      "..                                                 ...  ..   ...    ...   \n",
      "861                        Giles, Mr. Frederick Edward   0  21.0      1   \n",
      "862  Swift, Mrs. Frederick Joel (Margaret Welles Ba...   1  48.0      0   \n",
      "863                  Sage, Miss. Dorothy Edith \"Dolly\"   1  28.0      8   \n",
      "864                             Gill, Mr. John William   0  24.0      0   \n",
      "865                           Bystrom, Mrs. (Karolina)   1  42.0      0   \n",
      "866                       Duran y More, Miss. Asuncion   1  27.0      1   \n",
      "867               Roebling, Mr. Washington Augustus II   0  31.0      0   \n",
      "868                        van Melkebeke, Mr. Philemon   0  28.0      0   \n",
      "869                    Johnson, Master. Harold Theodor   0   4.0      1   \n",
      "870                                  Balkic, Mr. Cerin   0  26.0      0   \n",
      "871   Beckwith, Mrs. Richard Leonard (Sallie Monypeny)   1  47.0      1   \n",
      "872                           Carlsson, Mr. Frans Olof   0  33.0      0   \n",
      "873                        Vander Cruyssen, Mr. Victor   0  47.0      0   \n",
      "874              Abelson, Mrs. Samuel (Hannah Wizosky)   1  28.0      1   \n",
      "875                   Najib, Miss. Adele Kiamie \"Jane\"   1  15.0      0   \n",
      "876                      Gustafsson, Mr. Alfred Ossian   0  20.0      0   \n",
      "877                               Petroff, Mr. Nedelio   0  19.0      0   \n",
      "878                                 Laleff, Mr. Kristo   0  28.0      0   \n",
      "879      Potter, Mrs. Thomas Jr (Lily Alexenia Wilson)   1  56.0      0   \n",
      "880       Shelley, Mrs. William (Imanita Parrish Hall)   1  25.0      0   \n",
      "881                                 Markun, Mr. Johann   0  33.0      0   \n",
      "882                       Dahlberg, Miss. Gerda Ulrika   1  22.0      0   \n",
      "883                      Banfield, Mr. Frederick James   0  28.0      0   \n",
      "884                             Sutehall, Mr. Henry Jr   0  25.0      0   \n",
      "885               Rice, Mrs. William (Margaret Norton)   1  39.0      0   \n",
      "886                              Montvila, Rev. Juozas   0  27.0      0   \n",
      "887                       Graham, Miss. Margaret Edith   1  19.0      0   \n",
      "888           Johnston, Miss. Catherine Helen \"Carrie\"   1  28.0      1   \n",
      "889                              Behr, Mr. Karl Howell   0  26.0      0   \n",
      "890                                Dooley, Mr. Patrick   0  32.0      0   \n",
      "\n",
      "     Parch            Ticket      Fare        Cabin Embarked  Child  \n",
      "0        0         A/5 21171    7.2500          NaN        0      0  \n",
      "1        0          PC 17599   71.2833          C85        1      0  \n",
      "2        0  STON/O2. 3101282    7.9250          NaN        0      0  \n",
      "3        0            113803   53.1000         C123        0      0  \n",
      "4        0            373450    8.0500          NaN        0      0  \n",
      "5        0            330877    8.4583          NaN        2      0  \n",
      "6        0             17463   51.8625          E46        0      0  \n",
      "7        1            349909   21.0750          NaN        0      1  \n",
      "8        2            347742   11.1333          NaN        0      0  \n",
      "9        0            237736   30.0708          NaN        1      1  \n",
      "10       1           PP 9549   16.7000           G6        0      1  \n",
      "11       0            113783   26.5500         C103        0      0  \n",
      "12       0         A/5. 2151    8.0500          NaN        0      0  \n",
      "13       5            347082   31.2750          NaN        0      0  \n",
      "14       0            350406    7.8542          NaN        0      1  \n",
      "15       0            248706   16.0000          NaN        0      0  \n",
      "16       1            382652   29.1250          NaN        2      1  \n",
      "17       0            244373   13.0000          NaN        0      0  \n",
      "18       0            345763   18.0000          NaN        0      0  \n",
      "19       0              2649    7.2250          NaN        1      0  \n",
      "20       0            239865   26.0000          NaN        0      0  \n",
      "21       0            248698   13.0000          D56        0      0  \n",
      "22       0            330923    8.0292          NaN        2      1  \n",
      "23       0            113788   35.5000           A6        0      0  \n",
      "24       1            349909   21.0750          NaN        0      1  \n",
      "25       5            347077   31.3875          NaN        0      0  \n",
      "26       0              2631    7.2250          NaN        1      0  \n",
      "27       2             19950  263.0000  C23 C25 C27        0      0  \n",
      "28       0            330959    7.8792          NaN        2      0  \n",
      "29       0            349216    7.8958          NaN        0      0  \n",
      "..     ...               ...       ...          ...      ...    ...  \n",
      "861      0             28134   11.5000          NaN        0      0  \n",
      "862      0             17466   25.9292          D17        0      0  \n",
      "863      2          CA. 2343   69.5500          NaN        0      0  \n",
      "864      0            233866   13.0000          NaN        0      0  \n",
      "865      0            236852   13.0000          NaN        0      0  \n",
      "866      0     SC/PARIS 2149   13.8583          NaN        1      0  \n",
      "867      0          PC 17590   50.4958          A24        0      0  \n",
      "868      0            345777    9.5000          NaN        0      0  \n",
      "869      1            347742   11.1333          NaN        0      1  \n",
      "870      0            349248    7.8958          NaN        0      0  \n",
      "871      1             11751   52.5542          D35        0      0  \n",
      "872      0               695    5.0000  B51 B53 B55        0      0  \n",
      "873      0            345765    9.0000          NaN        0      0  \n",
      "874      0         P/PP 3381   24.0000          NaN        1      0  \n",
      "875      0              2667    7.2250          NaN        1      1  \n",
      "876      0              7534    9.8458          NaN        0      0  \n",
      "877      0            349212    7.8958          NaN        0      0  \n",
      "878      0            349217    7.8958          NaN        0      0  \n",
      "879      1             11767   83.1583          C50        1      0  \n",
      "880      1            230433   26.0000          NaN        0      0  \n",
      "881      0            349257    7.8958          NaN        0      0  \n",
      "882      0              7552   10.5167          NaN        0      0  \n",
      "883      0  C.A./SOTON 34068   10.5000          NaN        0      0  \n",
      "884      0   SOTON/OQ 392076    7.0500          NaN        0      0  \n",
      "885      5            382652   29.1250          NaN        2      0  \n",
      "886      0            211536   13.0000          NaN        0      0  \n",
      "887      0            112053   30.0000          B42        0      0  \n",
      "888      2        W./C. 6607   23.4500          NaN        0      0  \n",
      "889      0            111369   30.0000         C148        1      0  \n",
      "890      0            370376    7.7500          NaN        2      0  \n",
      "\n",
      "[891 rows x 13 columns]\n",
      "[0.12043051 0.31274009 0.23160593 0.33522347]\n",
      "0.9775533108866442\n"
     ]
    }
   ],
   "source": [
    "# Print the train data to see the available features\n",
    "print(train)\n",
    "\n",
    "# Create the target and features numpy arrays: target, features_one\n",
    "target = train[\"Survived\"].values\n",
    "features_one = train[[\"Pclass\", \"Sex\", \"Age\", \"Fare\"]].values\n",
    "\n",
    "# Fit your first decision tree: my_tree_one\n",
    "my_tree_one = tree.DecisionTreeClassifier()\n",
    "my_tree_one = my_tree_one.fit(X=features_one, y=target)\n",
    "\n",
    "# Look at the importance and score of the included features\n",
    "print(my_tree_one.feature_importances_)\n",
    "print(my_tree_one.score(features_one, target))"
   ]
  },
  {
   "cell_type": "markdown",
   "metadata": {},
   "source": [
    "## 테스트 해보기\n",
    "### 테스트 데이터 정제하기\n",
    "테스트 데이터 중 누락 값들을 채워넣자"
   ]
  },
  {
   "cell_type": "code",
   "execution_count": 10,
   "metadata": {},
   "outputs": [],
   "source": [
    "# Impute the missing value with the median\n",
    "test[\"Fare\"] = test[\"Fare\"].fillna(test[\"Fare\"].median())\n",
    "\n",
    "# Convert the male and female groups to integer form\n",
    "test[\"Sex\"][test[\"Sex\"] == \"male\"] = 0\n",
    "test[\"Sex\"][test[\"Sex\"] == \"female\"] = 1\n",
    "\n",
    "# Impute the Embarked variable\n",
    "test[\"Embarked\"] = test[\"Embarked\"].fillna('S')\n",
    "\n",
    "test[\"Age\"] = test[\"Age\"].fillna(test[\"Age\"].median())\n",
    "\n",
    "# Convert the Embarked classes to integer form\n",
    "test[\"Embarked\"][test[\"Embarked\"] == \"S\"] = 0\n",
    "test[\"Embarked\"][test[\"Embarked\"] == \"C\"] = 1\n",
    "test[\"Embarked\"][test[\"Embarked\"] == \"Q\"] = 2"
   ]
  },
  {
   "cell_type": "markdown",
   "metadata": {},
   "source": [
    "### 테스트 돌려보기"
   ]
  },
  {
   "cell_type": "code",
   "execution_count": 11,
   "metadata": {},
   "outputs": [
    {
     "name": "stdout",
     "output_type": "stream",
     "text": [
      "      Survived\n",
      "892          0\n",
      "893          0\n",
      "894          1\n",
      "895          1\n",
      "896          1\n",
      "897          0\n",
      "898          0\n",
      "899          0\n",
      "900          1\n",
      "901          0\n",
      "902          0\n",
      "903          0\n",
      "904          1\n",
      "905          1\n",
      "906          1\n",
      "907          1\n",
      "908          0\n",
      "909          1\n",
      "910          1\n",
      "911          0\n",
      "912          0\n",
      "913          1\n",
      "914          1\n",
      "915          0\n",
      "916          1\n",
      "917          0\n",
      "918          1\n",
      "919          1\n",
      "920          1\n",
      "921          0\n",
      "...        ...\n",
      "1280         0\n",
      "1281         0\n",
      "1282         0\n",
      "1283         1\n",
      "1284         1\n",
      "1285         0\n",
      "1286         0\n",
      "1287         1\n",
      "1288         0\n",
      "1289         1\n",
      "1290         0\n",
      "1291         0\n",
      "1292         1\n",
      "1293         0\n",
      "1294         1\n",
      "1295         0\n",
      "1296         0\n",
      "1297         0\n",
      "1298         0\n",
      "1299         0\n",
      "1300         1\n",
      "1301         1\n",
      "1302         1\n",
      "1303         1\n",
      "1304         0\n",
      "1305         0\n",
      "1306         1\n",
      "1307         0\n",
      "1308         0\n",
      "1309         0\n",
      "\n",
      "[418 rows x 1 columns]\n"
     ]
    }
   ],
   "source": [
    "# Extract the features from the test set: Pclass, Sex, Age, and Fare.\n",
    "test_features = test[[\"Pclass\",\"Sex\", \"Age\", \"Fare\"]].values\n",
    "\n",
    "# Make your prediction using the test set\n",
    "my_prediction = my_tree_one.predict(X=test_features)\n",
    "\n",
    "# Create a data frame with two columns: PassengerId & Survived. Survived contains your predictions\n",
    "PassengerId = np.array(test[\"PassengerId\"]).astype(int)\n",
    "my_solution = pd.DataFrame(my_prediction, PassengerId, columns = [\"Survived\"])\n",
    "print(my_solution)"
   ]
  },
  {
   "cell_type": "code",
   "execution_count": 12,
   "metadata": {},
   "outputs": [
    {
     "name": "stdout",
     "output_type": "stream",
     "text": [
      "(418, 1)\n"
     ]
    }
   ],
   "source": [
    "# Check that your data frame has 418 entries\n",
    "print(my_solution.shape)"
   ]
  },
  {
   "cell_type": "markdown",
   "metadata": {},
   "source": [
    "### 파일로 출력해서 캐글에 올려보기\n",
    "아래와 같이 csv로 내보내서 캐글에 올려보자.\n",
    "점수는 굉장히 낮을 것이다ㅎㅎㅎ... 그 이유는 오버피팅때문"
   ]
  },
  {
   "cell_type": "code",
   "execution_count": 13,
   "metadata": {},
   "outputs": [],
   "source": [
    "# Write your solution to a csv file with the name my_solution.csv\n",
    "my_solution.to_csv(\"first_decision_tree.csv\", index_label = [\"PassengerId\"])"
   ]
  },
  {
   "cell_type": "markdown",
   "metadata": {},
   "source": [
    "## Overfitting 제거하기\n",
    "트레이닝 데이터에 너무 과하게 맞춰져서 예측률이 떨어진 것이다!\n",
    "Decision Tree의 설정 값들을 조절하여 오버피팅을 줄여보자.\n",
    "\n",
    "-  [의사결정나무(Decision Tree)](https://ratsgo.github.io/machine%20learning/2017/03/26/tree/)"
   ]
  },
  {
   "cell_type": "code",
   "execution_count": 14,
   "metadata": {},
   "outputs": [
    {
     "name": "stdout",
     "output_type": "stream",
     "text": [
      "       PassengerId    Survived      Pclass         Age       SibSp  \\\n",
      "count   891.000000  891.000000  891.000000  891.000000  891.000000   \n",
      "mean    446.000000    0.383838    2.308642   29.361582    0.523008   \n",
      "std     257.353842    0.486592    0.836071   13.019697    1.102743   \n",
      "min       1.000000    0.000000    1.000000    0.420000    0.000000   \n",
      "25%     223.500000    0.000000    2.000000   22.000000    0.000000   \n",
      "50%     446.000000    0.000000    3.000000   28.000000    0.000000   \n",
      "75%     668.500000    1.000000    3.000000   35.000000    1.000000   \n",
      "max     891.000000    1.000000    3.000000   80.000000    8.000000   \n",
      "\n",
      "            Parch        Fare       Child  \n",
      "count  891.000000  891.000000  891.000000  \n",
      "mean     0.381594   32.204208    0.126824  \n",
      "std      0.806057   49.693429    0.332962  \n",
      "min      0.000000    0.000000    0.000000  \n",
      "25%      0.000000    7.910400    0.000000  \n",
      "50%      0.000000   14.454200    0.000000  \n",
      "75%      0.000000   31.000000    0.000000  \n",
      "max      6.000000  512.329200    1.000000  \n",
      "[0.14130255 0.17906027 0.41616727 0.17938711 0.05039699 0.01923751\n",
      " 0.0144483 ]\n",
      "0.9057239057239057\n"
     ]
    }
   ],
   "source": [
    "# Create a new array with the added features: features_two\n",
    "features_two = train[[\"Pclass\",\"Age\",\"Sex\",\"Fare\", \"SibSp\", \"Parch\", \"Embarked\"]].values\n",
    "print(train.describe())\n",
    "\n",
    "#Control overfitting by setting \"max_depth\" to 10 and \"min_samples_split\" to 5 : my_tree_two\n",
    "max_depth = 10\n",
    "min_samples_split = 5\n",
    "my_tree_two = tree.DecisionTreeClassifier(max_depth = max_depth, min_samples_split = min_samples_split, random_state = 1)\n",
    "my_tree_two = my_tree_two.fit(features_two, target)\n",
    "\n",
    "#Print the score of the new decison tree\n",
    "print(my_tree_two.feature_importances_)\n",
    "print(my_tree_two.score(features_two, target))"
   ]
  },
  {
   "cell_type": "markdown",
   "metadata": {},
   "source": [
    "## Feature Engineering\n",
    "데이터를 보고 가설을 하나 세우고 그 가설을 실험할 수 있도록 피쳐들을 조합해서 새로운 피쳐를 만드는 일련의 행위를 뜻한다.\n",
    "\n",
    "이번에는 '가족의 단위가 크면 살아남기 힘들었을 것이다' 라는 가정을 가지고 학습을 시켜보자"
   ]
  },
  {
   "cell_type": "code",
   "execution_count": 15,
   "metadata": {},
   "outputs": [
    {
     "name": "stdout",
     "output_type": "stream",
     "text": [
      "0.9797979797979798\n"
     ]
    }
   ],
   "source": [
    "# Create train_two with the newly defined feature\n",
    "train_two = train.copy()\n",
    "train_two[\"family_size\"] = train_two[\"SibSp\"] + train_two[\"Parch\"] + 1\n",
    "\n",
    "# Create a new feature set and add the new feature\n",
    "features_three = train_two[[\"Pclass\", \"Sex\", \"Age\", \"Fare\", \"SibSp\", \"Parch\", \"family_size\"]].values\n",
    "\n",
    "# Define the tree classifier, then fit the model\n",
    "my_tree_three = tree.DecisionTreeClassifier()\n",
    "my_tree_three = my_tree_three.fit(features_three, target)\n",
    "\n",
    "# Print the score of this decision tree\n",
    "print(my_tree_three.score(features_three, target))\n",
    "\n",
    "my_solution.to_csv(\"decision_tree_feature_engineering_family_size.csv\", index_label = [\"PassengerId\"])"
   ]
  },
  {
   "cell_type": "markdown",
   "metadata": {},
   "source": [
    "이를 캐글에 업로드해보니 `first_decision_tree.csv` 보다는 점수가 올라간 것을 확인할 수 있었다.\n",
    "하지만 여전히 이분법적으로 (성별/나이) 처리했을때보다 점수가 낮다."
   ]
  }
 ],
 "metadata": {
  "kernelspec": {
   "display_name": "Python 3",
   "language": "python",
   "name": "python3"
  },
  "language_info": {
   "codemirror_mode": {
    "name": "ipython",
    "version": 3
   },
   "file_extension": ".py",
   "mimetype": "text/x-python",
   "name": "python",
   "nbconvert_exporter": "python",
   "pygments_lexer": "ipython3",
   "version": "3.7.0"
  }
 },
 "nbformat": 4,
 "nbformat_minor": 2
}
